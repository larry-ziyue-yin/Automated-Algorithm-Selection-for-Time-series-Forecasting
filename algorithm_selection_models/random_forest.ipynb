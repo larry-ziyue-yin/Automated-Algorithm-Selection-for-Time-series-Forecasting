{
 "cells": [
  {
   "cell_type": "markdown",
   "metadata": {},
   "source": [
    "# Algorithm Selection Model using Random Forest"
   ]
  },
  {
   "cell_type": "markdown",
   "metadata": {},
   "source": [
    "1. Import necessary packages."
   ]
  },
  {
   "cell_type": "code",
   "execution_count": 1,
   "metadata": {},
   "outputs": [],
   "source": [
    "import csv\n",
    "import numpy as np\n",
    "from sklearn.ensemble import RandomForestRegressor"
   ]
  },
  {
   "cell_type": "markdown",
   "metadata": {},
   "source": [
    "2. `csv2dict(file)` function that loads the feature space from a `.csv` file."
   ]
  },
  {
   "cell_type": "code",
   "execution_count": 2,
   "metadata": {},
   "outputs": [],
   "source": [
    "def csv2dict(file):\n",
    "    dicts = []\n",
    "    with open(file, mode='r') as f:\n",
    "        csv_reader = csv.DictReader(f)\n",
    "        for row in csv_reader:\n",
    "            new_dict = {}\n",
    "            for key, value in row.items():\n",
    "                try:\n",
    "                    new_dict[key] = float(value)\n",
    "                except ValueError:\n",
    "                    new_dict[key] = value\n",
    "            dicts.append(new_dict)\n",
    "    return dicts"
   ]
  },
  {
   "cell_type": "markdown",
   "metadata": {},
   "source": [
    "3. `load_training_data(features_location, performance_location)` function that loads feature sets and performance scores."
   ]
  },
  {
   "cell_type": "code",
   "execution_count": 3,
   "metadata": {},
   "outputs": [],
   "source": [
    "def load_training_data(features_location, performance_location):\n",
    "    feature_dicts = csv2dict(features_location)\n",
    "    performance_matrix = csv2dict(performance_location)\n",
    "    algorithms = [list(algorithm.keys()) for algorithm in performance_matrix]\n",
    "    return feature_dicts, performance_matrix, algorithms"
   ]
  },
  {
   "cell_type": "markdown",
   "metadata": {},
   "source": [
    "4. `random_forest(X_clean, y_clean)` function that utilizes `RandomForestRegressor` to train the AS model."
   ]
  },
  {
   "cell_type": "code",
   "execution_count": 4,
   "metadata": {},
   "outputs": [],
   "source": [
    "def random_forest(X_clean, y_clean):\n",
    "    rf = RandomForestRegressor(n_estimators=100, random_state=42)\n",
    "    rf.fit(X_clean, y_clean)\n",
    "    return rf"
   ]
  },
  {
   "cell_type": "markdown",
   "metadata": {},
   "source": [
    "5. `prediction(rf, new_features_location, algorithms)` that make predictions given new datasets."
   ]
  },
  {
   "cell_type": "code",
   "execution_count": 5,
   "metadata": {},
   "outputs": [],
   "source": [
    "def prediction(rf, new_features_location, algorithms):\n",
    "    new_feature_dicts = csv2dict(new_features_location)\n",
    "    new_X = [list(new_feature_dict.values()) for new_feature_dict in new_feature_dicts]\n",
    "    new_X_clean = [[0.0 if val == '' else val for val in row] for row in new_X]\n",
    "    \n",
    "    predicted_performance = rf.predict(new_X_clean)\n",
    "    best_algorithm = np.argmin(predicted_performance)\n",
    "    \n",
    "    return algorithms[0][best_algorithm]"
   ]
  },
  {
   "cell_type": "markdown",
   "metadata": {},
   "source": [
    "6. Implementation part, where we call the functions above and get predicted results."
   ]
  },
  {
   "cell_type": "code",
   "execution_count": 6,
   "metadata": {},
   "outputs": [],
   "source": [
    "# traverse files in the directory\n",
    "import os\n",
    "def file_name(file_dir):\n",
    "    for root, dirs, files in os.walk(file_dir):\n",
    "        return files\n",
    "\n",
    "features_locations = file_name(\"data/feature_extraction\")\n",
    "performance_locations = file_name(\"data/performance\")\n",
    "\n",
    "features_locations.sort()\n",
    "performance_locations.sort()"
   ]
  },
  {
   "cell_type": "code",
   "execution_count": 7,
   "metadata": {},
   "outputs": [
    {
     "name": "stdout",
     "output_type": "stream",
     "text": [
      " Supervised_PatchTST_MSE\n"
     ]
    }
   ],
   "source": [
    "X = []\n",
    "y = []\n",
    "\n",
    "for i in range (len(features_locations)):\n",
    "    feature_dicts, performance_matrix, algorithms = load_training_data(\"data/feature_extraction/\"+features_locations[i], \"data/performance/\"+performance_locations[i])\n",
    "    \n",
    "    temp_X = list(feature_dicts[0].values())\n",
    "    temp_X_clean = [0.0 if val == '' else val for val in temp_X]\n",
    "    X.append(temp_X_clean)\n",
    "    \n",
    "    temp_y = list(performance_matrix[0].values())\n",
    "    y.append(temp_y)\n",
    "\n",
    "rf = random_forest(X, y)\n",
    "print(prediction(rf, \"data/feature_extraction/etth2_336_features.csv\", algorithms))"
   ]
  }
 ],
 "metadata": {
  "kernelspec": {
   "display_name": "gpht",
   "language": "python",
   "name": "python3"
  },
  "language_info": {
   "codemirror_mode": {
    "name": "ipython",
    "version": 3
   },
   "file_extension": ".py",
   "mimetype": "text/x-python",
   "name": "python",
   "nbconvert_exporter": "python",
   "pygments_lexer": "ipython3",
   "version": "3.11.4"
  }
 },
 "nbformat": 4,
 "nbformat_minor": 2
}
