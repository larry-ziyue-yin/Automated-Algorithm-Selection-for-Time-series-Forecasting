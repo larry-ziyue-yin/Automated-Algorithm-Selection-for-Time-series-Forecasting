{
 "cells": [
  {
   "cell_type": "markdown",
   "metadata": {},
   "source": [
    "# Algorithm Selection Model using Random Forest"
   ]
  },
  {
   "cell_type": "markdown",
   "metadata": {},
   "source": [
    "1. Import necessary packages."
   ]
  },
  {
   "cell_type": "code",
   "execution_count": 1,
   "metadata": {},
   "outputs": [],
   "source": [
    "import csv\n",
    "import numpy as np\n",
    "from sklearn.ensemble import RandomForestRegressor"
   ]
  },
  {
   "cell_type": "markdown",
   "metadata": {},
   "source": [
    "2. `csv2dict(file)` function that loads the feature space from a `.csv` file."
   ]
  },
  {
   "cell_type": "code",
   "execution_count": 2,
   "metadata": {},
   "outputs": [],
   "source": [
    "def csv2dict(file):\n",
    "    dicts = []\n",
    "    with open(file, mode='r') as f:\n",
    "        csv_reader = csv.DictReader(f)\n",
    "        for row in csv_reader:\n",
    "            new_dict = {}\n",
    "            for key, value in row.items():\n",
    "                try:\n",
    "                    new_dict[key] = float(value)\n",
    "                except ValueError:\n",
    "                    new_dict[key] = value\n",
    "            dicts.append(new_dict)\n",
    "    return dicts"
   ]
  },
  {
   "cell_type": "markdown",
   "metadata": {},
   "source": [
    "3. `load_training_data(features_location, performance_location)` function that loads feature sets and performance scores."
   ]
  },
  {
   "cell_type": "code",
   "execution_count": 3,
   "metadata": {},
   "outputs": [],
   "source": [
    "def load_training_data(features_location, performance_location):\n",
    "    feature_dicts = csv2dict(features_location)\n",
    "    performance_matrix = csv2dict(performance_location)\n",
    "    algorithms = [list(algorithm.keys()) for algorithm in performance_matrix]\n",
    "    return feature_dicts, performance_matrix, algorithms"
   ]
  },
  {
   "cell_type": "markdown",
   "metadata": {},
   "source": [
    "4. `random_forest(X_clean, y_clean)` function that utilizes `RandomForestRegressor` to train the AS model."
   ]
  },
  {
   "cell_type": "code",
   "execution_count": 4,
   "metadata": {},
   "outputs": [],
   "source": [
    "def random_forest(X_clean, y_clean):\n",
    "    rf = RandomForestRegressor(n_estimators=100, random_state=42)\n",
    "    rf.fit(X_clean, y_clean)\n",
    "    return rf"
   ]
  },
  {
   "cell_type": "markdown",
   "metadata": {},
   "source": [
    "5. `prediction(rf, new_features_location, algorithms)` that make predictions given new datasets."
   ]
  },
  {
   "cell_type": "code",
   "execution_count": 5,
   "metadata": {},
   "outputs": [],
   "source": [
    "def prediction(rf, new_features_location, algorithms):\n",
    "    desired_keys = ['Horizontal Length', ' LULL_ECDF Percentile Count_0', 'LULL_Sum absolute diff', 'LUFL_Wavelet variance_2.78Hz', 'HULL_Wavelet energy_5.0Hz', 'HUFL_LPCC_10', 'OT_MFCC_11', 'OT_MFCC_0', 'HULL_Spectral spread']\n",
    "    \n",
    "    new_feature_dicts = csv2dict(new_features_location)\n",
    "    new_X = [[new_feature_dict[key] for key in desired_keys if key in new_feature_dict]\n",
    "        for new_feature_dict in new_feature_dicts]\n",
    "    # new_X = [list(new_feature_dict.values()) for new_feature_dict in new_feature_dicts]\n",
    "    new_X_clean = [[0.0 if val == '' else val for val in row] for row in new_X]\n",
    "    \n",
    "    predicted_performance = rf.predict(new_X_clean)\n",
    "    even_items = predicted_performance[:, ::2]\n",
    "    odd_items = predicted_performance[:, 1::2]\n",
    "    \n",
    "    # Find the best algorithm for MSE and MAE\n",
    "    best_algorithm_mse = np.argmin(even_items)\n",
    "    best_algorithm_mae = np.argmin(odd_items)\n",
    "    \n",
    "    # Find the second best algorithm for MSE and MAE\n",
    "    temp_mse = np.copy(even_items)\n",
    "    temp_mae = np.copy(odd_items)\n",
    "    temp_mse[0][best_algorithm_mse] = np.inf\n",
    "    temp_mae[0][best_algorithm_mae] = np.inf\n",
    "    second_best_algorithm_mse = np.argmin(temp_mse)\n",
    "    second_best_algorithm_mae = np.argmin(temp_mae)\n",
    "    \n",
    "    print('Predicted performance:', predicted_performance)\n",
    "    algorithm = [[], []]\n",
    "    algorithm[0] = algorithms[0][::2]\n",
    "    algorithm[1] = algorithms[0][1::2]\n",
    "\n",
    "    print(\"Predicted MSEs:\", even_items)\n",
    "    print(\"Best algorithm for MSE:\", algorithm[0][best_algorithm_mse])\n",
    "    print(\"Second best algorithm for MSE:\", algorithm[0][second_best_algorithm_mse])\n",
    "    print(\"Predicted MAEs:\", odd_items)\n",
    "    print(\"Best algorithm for MAE:\", algorithm[1][best_algorithm_mae])\n",
    "    print(\"Second best algorithm for MAE:\", algorithm[1][second_best_algorithm_mae])\n",
    "    return"
   ]
  },
  {
   "cell_type": "markdown",
   "metadata": {},
   "source": [
    "6. Implementation part, where we call the functions above and get predicted results."
   ]
  },
  {
   "cell_type": "code",
   "execution_count": 6,
   "metadata": {},
   "outputs": [
    {
     "name": "stdout",
     "output_type": "stream",
     "text": [
      "Origin # of features: 2185\n",
      "# of features left after Variance Filter: 1150\n",
      "# of features left after Correlation Filter: 9\n"
     ]
    },
    {
     "data": {
      "text/html": [
       "<div>\n",
       "<style scoped>\n",
       "    .dataframe tbody tr th:only-of-type {\n",
       "        vertical-align: middle;\n",
       "    }\n",
       "\n",
       "    .dataframe tbody tr th {\n",
       "        vertical-align: top;\n",
       "    }\n",
       "\n",
       "    .dataframe thead th {\n",
       "        text-align: right;\n",
       "    }\n",
       "</style>\n",
       "<table border=\"1\" class=\"dataframe\">\n",
       "  <thead>\n",
       "    <tr style=\"text-align: right;\">\n",
       "      <th></th>\n",
       "      <th>Horizontal Length</th>\n",
       "      <th>LULL_ECDF Percentile Count_0</th>\n",
       "      <th>LULL_Sum absolute diff</th>\n",
       "      <th>LUFL_Wavelet variance_2.78Hz</th>\n",
       "      <th>HULL_Wavelet energy_5.0Hz</th>\n",
       "      <th>HUFL_LPCC_10</th>\n",
       "      <th>OT_MFCC_11</th>\n",
       "      <th>OT_MFCC_0</th>\n",
       "      <th>HULL_Spectral spread</th>\n",
       "    </tr>\n",
       "  </thead>\n",
       "  <tbody>\n",
       "    <tr>\n",
       "      <th>0</th>\n",
       "      <td>192.0</td>\n",
       "      <td>3484.0</td>\n",
       "      <td>2003.879997</td>\n",
       "      <td>3.672289</td>\n",
       "      <td>2.847223</td>\n",
       "      <td>0.728981</td>\n",
       "      <td>6.149743</td>\n",
       "      <td>-3.468326</td>\n",
       "      <td>14.990301</td>\n",
       "    </tr>\n",
       "    <tr>\n",
       "      <th>0</th>\n",
       "      <td>336.0</td>\n",
       "      <td>3484.0</td>\n",
       "      <td>2003.879997</td>\n",
       "      <td>3.672289</td>\n",
       "      <td>2.847223</td>\n",
       "      <td>0.728981</td>\n",
       "      <td>6.149743</td>\n",
       "      <td>-3.468326</td>\n",
       "      <td>14.990301</td>\n",
       "    </tr>\n",
       "    <tr>\n",
       "      <th>0</th>\n",
       "      <td>720.0</td>\n",
       "      <td>3484.0</td>\n",
       "      <td>2003.879997</td>\n",
       "      <td>3.672289</td>\n",
       "      <td>2.847223</td>\n",
       "      <td>0.728981</td>\n",
       "      <td>6.149743</td>\n",
       "      <td>-3.468326</td>\n",
       "      <td>14.990301</td>\n",
       "    </tr>\n",
       "    <tr>\n",
       "      <th>0</th>\n",
       "      <td>96.0</td>\n",
       "      <td>3484.0</td>\n",
       "      <td>2003.879997</td>\n",
       "      <td>3.672289</td>\n",
       "      <td>2.847223</td>\n",
       "      <td>0.728981</td>\n",
       "      <td>6.149743</td>\n",
       "      <td>-3.468326</td>\n",
       "      <td>14.990301</td>\n",
       "    </tr>\n",
       "    <tr>\n",
       "      <th>0</th>\n",
       "      <td>192.0</td>\n",
       "      <td>3484.0</td>\n",
       "      <td>4299.620996</td>\n",
       "      <td>7.332074</td>\n",
       "      <td>3.939930</td>\n",
       "      <td>1.114523</td>\n",
       "      <td>-38.626861</td>\n",
       "      <td>9.764201</td>\n",
       "      <td>15.399541</td>\n",
       "    </tr>\n",
       "    <tr>\n",
       "      <th>0</th>\n",
       "      <td>336.0</td>\n",
       "      <td>3484.0</td>\n",
       "      <td>4299.620996</td>\n",
       "      <td>7.332074</td>\n",
       "      <td>3.939930</td>\n",
       "      <td>1.114523</td>\n",
       "      <td>-38.626861</td>\n",
       "      <td>9.764201</td>\n",
       "      <td>15.399541</td>\n",
       "    </tr>\n",
       "    <tr>\n",
       "      <th>0</th>\n",
       "      <td>720.0</td>\n",
       "      <td>3484.0</td>\n",
       "      <td>4299.620996</td>\n",
       "      <td>7.332074</td>\n",
       "      <td>3.939930</td>\n",
       "      <td>1.114523</td>\n",
       "      <td>-38.626861</td>\n",
       "      <td>9.764201</td>\n",
       "      <td>15.399541</td>\n",
       "    </tr>\n",
       "    <tr>\n",
       "      <th>0</th>\n",
       "      <td>96.0</td>\n",
       "      <td>3484.0</td>\n",
       "      <td>4299.620996</td>\n",
       "      <td>7.332074</td>\n",
       "      <td>3.939930</td>\n",
       "      <td>1.114523</td>\n",
       "      <td>-38.626861</td>\n",
       "      <td>9.764201</td>\n",
       "      <td>15.399541</td>\n",
       "    </tr>\n",
       "    <tr>\n",
       "      <th>0</th>\n",
       "      <td>192.0</td>\n",
       "      <td>13936.0</td>\n",
       "      <td>4970.865002</td>\n",
       "      <td>4.347950</td>\n",
       "      <td>1.431463</td>\n",
       "      <td>0.761384</td>\n",
       "      <td>-44.726663</td>\n",
       "      <td>7.286104</td>\n",
       "      <td>15.446551</td>\n",
       "    </tr>\n",
       "    <tr>\n",
       "      <th>0</th>\n",
       "      <td>336.0</td>\n",
       "      <td>13936.0</td>\n",
       "      <td>4970.865002</td>\n",
       "      <td>4.347950</td>\n",
       "      <td>1.431463</td>\n",
       "      <td>0.761384</td>\n",
       "      <td>-44.726663</td>\n",
       "      <td>7.286104</td>\n",
       "      <td>15.446551</td>\n",
       "    </tr>\n",
       "    <tr>\n",
       "      <th>0</th>\n",
       "      <td>720.0</td>\n",
       "      <td>13936.0</td>\n",
       "      <td>4970.865002</td>\n",
       "      <td>4.347950</td>\n",
       "      <td>1.431463</td>\n",
       "      <td>0.761384</td>\n",
       "      <td>-44.726663</td>\n",
       "      <td>7.286104</td>\n",
       "      <td>15.446551</td>\n",
       "    </tr>\n",
       "    <tr>\n",
       "      <th>0</th>\n",
       "      <td>96.0</td>\n",
       "      <td>13936.0</td>\n",
       "      <td>4970.865002</td>\n",
       "      <td>4.347950</td>\n",
       "      <td>1.431463</td>\n",
       "      <td>0.761384</td>\n",
       "      <td>-44.726663</td>\n",
       "      <td>7.286104</td>\n",
       "      <td>15.446551</td>\n",
       "    </tr>\n",
       "    <tr>\n",
       "      <th>0</th>\n",
       "      <td>192.0</td>\n",
       "      <td>13936.0</td>\n",
       "      <td>9458.045010</td>\n",
       "      <td>5.955052</td>\n",
       "      <td>2.753408</td>\n",
       "      <td>1.230579</td>\n",
       "      <td>-29.434252</td>\n",
       "      <td>0.252783</td>\n",
       "      <td>14.731450</td>\n",
       "    </tr>\n",
       "    <tr>\n",
       "      <th>0</th>\n",
       "      <td>336.0</td>\n",
       "      <td>13936.0</td>\n",
       "      <td>9458.045010</td>\n",
       "      <td>5.955052</td>\n",
       "      <td>2.753408</td>\n",
       "      <td>1.230579</td>\n",
       "      <td>-29.434252</td>\n",
       "      <td>0.252783</td>\n",
       "      <td>14.731450</td>\n",
       "    </tr>\n",
       "    <tr>\n",
       "      <th>0</th>\n",
       "      <td>720.0</td>\n",
       "      <td>13936.0</td>\n",
       "      <td>9458.045010</td>\n",
       "      <td>5.955052</td>\n",
       "      <td>2.753408</td>\n",
       "      <td>1.230579</td>\n",
       "      <td>-29.434252</td>\n",
       "      <td>0.252783</td>\n",
       "      <td>14.731450</td>\n",
       "    </tr>\n",
       "    <tr>\n",
       "      <th>0</th>\n",
       "      <td>96.0</td>\n",
       "      <td>13936.0</td>\n",
       "      <td>9458.045010</td>\n",
       "      <td>5.955052</td>\n",
       "      <td>2.753408</td>\n",
       "      <td>1.230579</td>\n",
       "      <td>-29.434252</td>\n",
       "      <td>0.252783</td>\n",
       "      <td>14.731450</td>\n",
       "    </tr>\n",
       "  </tbody>\n",
       "</table>\n",
       "</div>"
      ],
      "text/plain": [
       "   Horizontal Length   LULL_ECDF Percentile Count_0  LULL_Sum absolute diff  \\\n",
       "0              192.0                         3484.0             2003.879997   \n",
       "0              336.0                         3484.0             2003.879997   \n",
       "0              720.0                         3484.0             2003.879997   \n",
       "0               96.0                         3484.0             2003.879997   \n",
       "0              192.0                         3484.0             4299.620996   \n",
       "0              336.0                         3484.0             4299.620996   \n",
       "0              720.0                         3484.0             4299.620996   \n",
       "0               96.0                         3484.0             4299.620996   \n",
       "0              192.0                        13936.0             4970.865002   \n",
       "0              336.0                        13936.0             4970.865002   \n",
       "0              720.0                        13936.0             4970.865002   \n",
       "0               96.0                        13936.0             4970.865002   \n",
       "0              192.0                        13936.0             9458.045010   \n",
       "0              336.0                        13936.0             9458.045010   \n",
       "0              720.0                        13936.0             9458.045010   \n",
       "0               96.0                        13936.0             9458.045010   \n",
       "\n",
       "   LUFL_Wavelet variance_2.78Hz  HULL_Wavelet energy_5.0Hz  HUFL_LPCC_10  \\\n",
       "0                      3.672289                   2.847223      0.728981   \n",
       "0                      3.672289                   2.847223      0.728981   \n",
       "0                      3.672289                   2.847223      0.728981   \n",
       "0                      3.672289                   2.847223      0.728981   \n",
       "0                      7.332074                   3.939930      1.114523   \n",
       "0                      7.332074                   3.939930      1.114523   \n",
       "0                      7.332074                   3.939930      1.114523   \n",
       "0                      7.332074                   3.939930      1.114523   \n",
       "0                      4.347950                   1.431463      0.761384   \n",
       "0                      4.347950                   1.431463      0.761384   \n",
       "0                      4.347950                   1.431463      0.761384   \n",
       "0                      4.347950                   1.431463      0.761384   \n",
       "0                      5.955052                   2.753408      1.230579   \n",
       "0                      5.955052                   2.753408      1.230579   \n",
       "0                      5.955052                   2.753408      1.230579   \n",
       "0                      5.955052                   2.753408      1.230579   \n",
       "\n",
       "   OT_MFCC_11  OT_MFCC_0  HULL_Spectral spread  \n",
       "0    6.149743  -3.468326             14.990301  \n",
       "0    6.149743  -3.468326             14.990301  \n",
       "0    6.149743  -3.468326             14.990301  \n",
       "0    6.149743  -3.468326             14.990301  \n",
       "0  -38.626861   9.764201             15.399541  \n",
       "0  -38.626861   9.764201             15.399541  \n",
       "0  -38.626861   9.764201             15.399541  \n",
       "0  -38.626861   9.764201             15.399541  \n",
       "0  -44.726663   7.286104             15.446551  \n",
       "0  -44.726663   7.286104             15.446551  \n",
       "0  -44.726663   7.286104             15.446551  \n",
       "0  -44.726663   7.286104             15.446551  \n",
       "0  -29.434252   0.252783             14.731450  \n",
       "0  -29.434252   0.252783             14.731450  \n",
       "0  -29.434252   0.252783             14.731450  \n",
       "0  -29.434252   0.252783             14.731450  "
      ]
     },
     "execution_count": 6,
     "metadata": {},
     "output_type": "execute_result"
    }
   ],
   "source": [
    "import pandas as pd\n",
    "import numpy as np\n",
    "import os\n",
    "from sklearn.feature_selection import VarianceThreshold\n",
    "\n",
    "def load_all_feature_files(directory):\n",
    "    feature_files = []\n",
    "    for filename in os.listdir(directory):\n",
    "        if filename.endswith(\".csv\"):\n",
    "            file_path = os.path.join(directory, filename)\n",
    "            feature_files.append(file_path)\n",
    "        feature_files.sort()\n",
    "    return feature_files\n",
    "\n",
    "def load_and_combine_features(feature_files):\n",
    "    combined_df = pd.DataFrame()\n",
    "    for file in feature_files:\n",
    "        temp_df = pd.read_csv(file)\n",
    "        combined_df = pd.concat([combined_df, temp_df], axis=0)\n",
    "    return combined_df\n",
    "\n",
    "feature_directory = \"data/feature_extraction\"\n",
    "feature_files = load_all_feature_files(feature_directory)\n",
    "\n",
    "features_df = load_and_combine_features(feature_files)\n",
    "\n",
    "var_thresh = 0.01\n",
    "selector = VarianceThreshold(threshold=var_thresh)\n",
    "X_var_reduced = selector.fit_transform(features_df)\n",
    "\n",
    "selected_features = features_df.columns[selector.get_support(indices=True)]\n",
    "features_var_reduced_df = features_df[selected_features]\n",
    "\n",
    "corr_matrix = features_var_reduced_df.corr().abs()\n",
    "\n",
    "upper = corr_matrix.where(np.triu(np.ones(corr_matrix.shape), k=1).astype(bool))\n",
    "\n",
    "correlation_threshold = 0.9\n",
    "to_drop = [column for column in upper.columns if any(upper[column] > correlation_threshold)]\n",
    "\n",
    "X_final_reduced = features_var_reduced_df.drop(columns=to_drop)\n",
    "\n",
    "print(f\"Origin # of features: {features_df.shape[1]}\")\n",
    "print(f\"# of features left after Variance Filter: {features_var_reduced_df.shape[1]}\")\n",
    "print(f\"# of features left after Correlation Filter: {X_final_reduced.shape[1]}\")\n",
    "\n",
    "X_final_reduced"
   ]
  },
  {
   "cell_type": "code",
   "execution_count": 7,
   "metadata": {},
   "outputs": [],
   "source": [
    "# traverse files in the directory\n",
    "import os\n",
    "def file_name(file_dir):\n",
    "    for root, dirs, files in os.walk(file_dir):\n",
    "        return files\n",
    "\n",
    "features_locations = file_name(\"data/feature_extraction\")\n",
    "performance_locations = file_name(\"data/performance\")\n",
    "\n",
    "features_locations.sort()\n",
    "performance_locations.sort()\n",
    "\n",
    "X = []\n",
    "y = []\n",
    "\n",
    "for i in range (len(features_locations)):\n",
    "    feature_dicts, performance_matrix, algorithms = load_training_data(\"data/feature_extraction/\"+features_locations[i], \"data/performance/\"+performance_locations[i])\n",
    "    \n",
    "    # temp_X = list(feature_dicts[0].values())\n",
    "    # temp_X_clean = [0.0 if val == '' else val for val in temp_X]\n",
    "    # X.append(temp_X_clean)\n",
    "    \n",
    "    temp_y = list(performance_matrix[0].values())\n",
    "    y.append(temp_y)\n",
    "X = X_final_reduced.values.tolist()\n",
    "\n",
    "rf = random_forest(X, y)"
   ]
  },
  {
   "cell_type": "markdown",
   "metadata": {},
   "source": [
    "### For the `etth1` dataset:"
   ]
  },
  {
   "cell_type": "code",
   "execution_count": 8,
   "metadata": {},
   "outputs": [
    {
     "name": "stdout",
     "output_type": "stream",
     "text": [
      "Predicted performance: [[0.3632  0.37928 0.34897 0.37287 0.36527 0.39028 0.36616 0.39126 0.36323\n",
      "  0.39638 0.40322 0.42956 0.36219 0.38952 0.38432 0.40658 0.40634 0.42865\n",
      "  0.36095 0.38933]]\n",
      "Predicted MSEs: [[0.3632  0.34897 0.36527 0.36616 0.36323 0.40322 0.36219 0.38432 0.40634\n",
      "  0.36095]]\n",
      "Best algorithm for MSE:  GPHT_MSE\n",
      "Second best algorithm for MSE:  DLinear_MSE\n",
      "Predicted MAEs: [[0.37928 0.37287 0.39028 0.39126 0.39638 0.42956 0.38952 0.40658 0.42865\n",
      "  0.38933]]\n",
      "Best algorithm for MAE:  GPHT_MAE\n",
      "Second best algorithm for MAE:  GPHT'_MAE\n",
      "None\n"
     ]
    }
   ],
   "source": [
    "print(prediction(rf, \"data/feature_extraction/etth1_96_features.csv\", algorithms))"
   ]
  },
  {
   "cell_type": "code",
   "execution_count": 9,
   "metadata": {},
   "outputs": [
    {
     "name": "stdout",
     "output_type": "stream",
     "text": [
      "Predicted performance: [[0.39619 0.40056 0.38148 0.39339 0.40147 0.41406 0.3969  0.40902 0.39278\n",
      "  0.4155  0.44544 0.4589  0.39272 0.40878 0.4208  0.42968 0.44961 0.4566\n",
      "  0.40006 0.4174 ]]\n",
      "Predicted MSEs: [[0.39619 0.38148 0.40147 0.3969  0.39278 0.44544 0.39272 0.4208  0.44961\n",
      "  0.40006]]\n",
      "Best algorithm for MSE:  GPHT_MSE\n",
      "Second best algorithm for MSE:  Supervised_PatchTST_MSE\n",
      "Predicted MAEs: [[0.40056 0.39339 0.41406 0.40902 0.4155  0.4589  0.40878 0.42968 0.4566\n",
      "  0.4174 ]]\n",
      "Best algorithm for MAE:  GPHT_MAE\n",
      "Second best algorithm for MAE:  GPHT'_MAE\n",
      "None\n"
     ]
    }
   ],
   "source": [
    "print(prediction(rf, \"data/feature_extraction/etth1_192_features.csv\", algorithms))"
   ]
  },
  {
   "cell_type": "code",
   "execution_count": 10,
   "metadata": {},
   "outputs": [
    {
     "name": "stdout",
     "output_type": "stream",
     "text": [
      "Predicted performance: [[0.43351 0.42171 0.41216 0.4134  0.43706 0.43641 0.42561 0.42712 0.41361\n",
      "  0.43069 0.48894 0.48944 0.42305 0.4295  0.46066 0.45661 0.49474 0.48507\n",
      "  0.43484 0.44196]]\n",
      "Predicted MSEs: [[0.43351 0.41216 0.43706 0.42561 0.41361 0.48894 0.42305 0.46066 0.49474\n",
      "  0.43484]]\n",
      "Best algorithm for MSE:  GPHT_MSE\n",
      "Second best algorithm for MSE:  SimMTM_MSE\n",
      "Predicted MAEs: [[0.42171 0.4134  0.43641 0.42712 0.43069 0.48944 0.4295  0.45661 0.48507\n",
      "  0.44196]]\n",
      "Best algorithm for MAE:  GPHT_MAE\n",
      "Second best algorithm for MAE:  GPHT'_MAE\n",
      "None\n"
     ]
    }
   ],
   "source": [
    "print(prediction(rf, \"data/feature_extraction/etth1_336_features.csv\", algorithms))"
   ]
  },
  {
   "cell_type": "code",
   "execution_count": 11,
   "metadata": {},
   "outputs": [
    {
     "name": "stdout",
     "output_type": "stream",
     "text": [
      "Predicted performance: [[0.4484  0.44277 0.41564 0.43122 0.45185 0.45783 0.45581 0.46192 0.43056\n",
      "  0.44899 0.56952 0.55244 0.45519 0.46319 0.5275  0.51231 0.51463 0.50119\n",
      "  0.51667 0.51025]]\n",
      "Predicted MSEs: [[0.4484  0.41564 0.45185 0.45581 0.43056 0.56952 0.45519 0.5275  0.51463\n",
      "  0.51667]]\n",
      "Best algorithm for MSE:  GPHT_MSE\n",
      "Second best algorithm for MSE:  SimMTM_MSE\n",
      "Predicted MAEs: [[0.44277 0.43122 0.45783 0.46192 0.44899 0.55244 0.46319 0.51231 0.50119\n",
      "  0.51025]]\n",
      "Best algorithm for MAE:  GPHT_MAE\n",
      "Second best algorithm for MAE:  GPHT'_MAE\n",
      "None\n"
     ]
    }
   ],
   "source": [
    "print(prediction(rf, \"data/feature_extraction/etth1_720_features.csv\", algorithms))"
   ]
  },
  {
   "cell_type": "markdown",
   "metadata": {},
   "source": [
    "### For the `etth2` dataset:"
   ]
  },
  {
   "cell_type": "code",
   "execution_count": 12,
   "metadata": {},
   "outputs": [
    {
     "name": "stdout",
     "output_type": "stream",
     "text": [
      "Predicted performance: [[0.31753 0.35336 0.30683 0.3469  0.31298 0.36185 0.30288 0.35585 0.30838\n",
      "  0.35628 0.30766 0.36581 0.29988 0.35086 0.32094 0.36958 0.35885 0.40677\n",
      "  0.31653 0.37151]]\n",
      "Predicted MSEs: [[0.31753 0.30683 0.31298 0.30288 0.30838 0.30766 0.29988 0.32094 0.35885\n",
      "  0.31653]]\n",
      "Best algorithm for MSE:  Supervised_PatchTST_MSE\n",
      "Second best algorithm for MSE:  FPT_MSE\n",
      "Predicted MAEs: [[0.35336 0.3469  0.36185 0.35585 0.35628 0.36581 0.35086 0.36958 0.40677\n",
      "  0.37151]]\n",
      "Best algorithm for MAE:  GPHT_MAE\n",
      "Second best algorithm for MAE:  Supervised_PatchTST_MAE\n",
      "None\n"
     ]
    }
   ],
   "source": [
    "print(prediction(rf, \"data/feature_extraction/etth2_96_features.csv\", algorithms))"
   ]
  },
  {
   "cell_type": "code",
   "execution_count": 13,
   "metadata": {},
   "outputs": [
    {
     "name": "stdout",
     "output_type": "stream",
     "text": [
      "Predicted performance: [[0.36203 0.38316 0.35225 0.37793 0.36841 0.39565 0.34636 0.38499 0.35026\n",
      "  0.38278 0.34988 0.39445 0.34563 0.38242 0.37587 0.40358 0.39449 0.42766\n",
      "  0.38412 0.41633]]\n",
      "Predicted MSEs: [[0.36203 0.35225 0.36841 0.34636 0.35026 0.34988 0.34563 0.37587 0.39449\n",
      "  0.38412]]\n",
      "Best algorithm for MSE:  Supervised_PatchTST_MSE\n",
      "Second best algorithm for MSE:  FPT_MSE\n",
      "Predicted MAEs: [[0.38316 0.37793 0.39565 0.38499 0.38278 0.39445 0.38242 0.40358 0.42766\n",
      "  0.41633]]\n",
      "Best algorithm for MAE:  GPHT_MAE\n",
      "Second best algorithm for MAE:  Supervised_PatchTST_MAE\n",
      "None\n"
     ]
    }
   ],
   "source": [
    "print(prediction(rf, \"data/feature_extraction/etth2_192_features.csv\", algorithms))"
   ]
  },
  {
   "cell_type": "code",
   "execution_count": 14,
   "metadata": {},
   "outputs": [
    {
     "name": "stdout",
     "output_type": "stream",
     "text": [
      "Predicted performance: [[0.39138 0.40696 0.38325 0.40253 0.38751 0.41036 0.379   0.41106 0.38022\n",
      "  0.40473 0.39478 0.4248  0.37275 0.40487 0.40795 0.42615 0.40463 0.43583\n",
      "  0.44541 0.45582]]\n",
      "Predicted MSEs: [[0.39138 0.38325 0.38751 0.379   0.38022 0.39478 0.37275 0.40795 0.40463\n",
      "  0.44541]]\n",
      "Best algorithm for MSE:  Supervised_PatchTST_MSE\n",
      "Second best algorithm for MSE:  FPT_MSE\n",
      "Predicted MAEs: [[0.40696 0.40253 0.41036 0.41106 0.40473 0.4248  0.40487 0.42615 0.43583\n",
      "  0.45582]]\n",
      "Best algorithm for MAE:  GPHT_MAE\n",
      "Second best algorithm for MAE:  SimMTM_MAE\n",
      "None\n"
     ]
    }
   ],
   "source": [
    "print(prediction(rf, \"data/feature_extraction/etth2_336_features.csv\", algorithms))"
   ]
  },
  {
   "cell_type": "code",
   "execution_count": 15,
   "metadata": {},
   "outputs": [
    {
     "name": "stdout",
     "output_type": "stream",
     "text": [
      "Predicted performance: [[0.41586 0.4275  0.40701 0.42376 0.41125 0.43681 0.41364 0.44196 0.40921\n",
      "  0.43077 0.51557 0.49671 0.40732 0.43648 0.44047 0.45415 0.44996 0.46431\n",
      "  0.62789 0.55309]]\n",
      "Predicted MSEs: [[0.41586 0.40701 0.41125 0.41364 0.40921 0.51557 0.40732 0.44047 0.44996\n",
      "  0.62789]]\n",
      "Best algorithm for MSE:  GPHT_MSE\n",
      "Second best algorithm for MSE:  Supervised_PatchTST_MSE\n",
      "Predicted MAEs: [[0.4275  0.42376 0.43681 0.44196 0.43077 0.49671 0.43648 0.45415 0.46431\n",
      "  0.55309]]\n",
      "Best algorithm for MAE:  GPHT_MAE\n",
      "Second best algorithm for MAE:  GPHT'_MAE\n",
      "None\n"
     ]
    }
   ],
   "source": [
    "print(prediction(rf, \"data/feature_extraction/etth2_720_features.csv\", algorithms))"
   ]
  },
  {
   "cell_type": "markdown",
   "metadata": {},
   "source": [
    "### For the `ettm1` dataset:"
   ]
  },
  {
   "cell_type": "code",
   "execution_count": 16,
   "metadata": {},
   "outputs": [
    {
     "name": "stdout",
     "output_type": "stream",
     "text": [
      "Predicted performance: [[0.30743 0.34855 0.29724 0.34235 0.28881 0.34632 0.29506 0.34925 0.30075\n",
      "  0.35192 0.30668 0.3542  0.30126 0.34808 0.31033 0.36233 0.34744 0.38312\n",
      "  0.30568 0.3504 ]]\n",
      "Predicted MSEs: [[0.30743 0.29724 0.28881 0.29506 0.30075 0.30668 0.30126 0.31033 0.34744\n",
      "  0.30568]]\n",
      "Best algorithm for MSE:  Self-supervised_PatchTST_MSE\n",
      "Second best algorithm for MSE:  FPT_MSE\n",
      "Predicted MAEs: [[0.34855 0.34235 0.34632 0.34925 0.35192 0.3542  0.34808 0.36233 0.38312\n",
      "  0.3504 ]]\n",
      "Best algorithm for MAE:  GPHT_MAE\n",
      "Second best algorithm for MAE:  Self-supervised_PatchTST_MAE\n",
      "None\n"
     ]
    }
   ],
   "source": [
    "print(prediction(rf, \"data/feature_extraction/ettm1_96_features.csv\", algorithms))"
   ]
  },
  {
   "cell_type": "code",
   "execution_count": 17,
   "metadata": {},
   "outputs": [
    {
     "name": "stdout",
     "output_type": "stream",
     "text": [
      "Predicted performance: [[0.3471  0.3739  0.33688 0.36768 0.32483 0.37058 0.33008 0.37101 0.33436\n",
      "  0.37339 0.34981 0.38241 0.33896 0.37375 0.34558 0.38263 0.4229  0.41816\n",
      "  0.33899 0.36971]]\n",
      "Predicted MSEs: [[0.3471  0.33688 0.32483 0.33008 0.33436 0.34981 0.33896 0.34558 0.4229\n",
      "  0.33899]]\n",
      "Best algorithm for MSE:  Self-supervised_PatchTST_MSE\n",
      "Second best algorithm for MSE:  FPT_MSE\n",
      "Predicted MAEs: [[0.3739  0.36768 0.37058 0.37101 0.37339 0.38241 0.37375 0.38263 0.41816\n",
      "  0.36971]]\n",
      "Best algorithm for MAE:  GPHT_MAE\n",
      "Second best algorithm for MAE:  DLinear_MAE\n",
      "None\n"
     ]
    }
   ],
   "source": [
    "print(prediction(rf, \"data/feature_extraction/ettm1_192_features.csv\", algorithms))"
   ]
  },
  {
   "cell_type": "code",
   "execution_count": 18,
   "metadata": {},
   "outputs": [
    {
     "name": "stdout",
     "output_type": "stream",
     "text": [
      "Predicted performance: [[0.38042 0.39539 0.36953 0.38809 0.34665 0.38347 0.35898 0.38901 0.36315\n",
      "  0.39245 0.38199 0.40353 0.37077 0.39479 0.37407 0.39985 0.44638 0.43793\n",
      "  0.36939 0.39119]]\n",
      "Predicted MSEs: [[0.38042 0.36953 0.34665 0.35898 0.36315 0.38199 0.37077 0.37407 0.44638\n",
      "  0.36939]]\n",
      "Best algorithm for MSE:  Self-supervised_PatchTST_MSE\n",
      "Second best algorithm for MSE:  FPT_MSE\n",
      "Predicted MAEs: [[0.39539 0.38809 0.38347 0.38901 0.39245 0.40353 0.39479 0.39985 0.43793\n",
      "  0.39119]]\n",
      "Best algorithm for MAE:  Self-supervised_PatchTST_MAE\n",
      "Second best algorithm for MAE:  GPHT_MAE\n",
      "None\n"
     ]
    }
   ],
   "source": [
    "print(prediction(rf, \"data/feature_extraction/ettm1_336_features.csv\", algorithms))"
   ]
  },
  {
   "cell_type": "code",
   "execution_count": 19,
   "metadata": {},
   "outputs": [
    {
     "name": "stdout",
     "output_type": "stream",
     "text": [
      "Predicted performance: [[0.44073 0.42861 0.4275  0.42129 0.39359 0.41536 0.40685 0.41935 0.40596\n",
      "  0.41876 0.45224 0.44579 0.41329 0.4251  0.42774 0.43243 0.4933  0.4659\n",
      "  0.45136 0.44094]]\n",
      "Predicted MSEs: [[0.44073 0.4275  0.39359 0.40685 0.40596 0.45224 0.41329 0.42774 0.4933\n",
      "  0.45136]]\n",
      "Best algorithm for MSE:  Self-supervised_PatchTST_MSE\n",
      "Second best algorithm for MSE:  SimMTM_MSE\n",
      "Predicted MAEs: [[0.42861 0.42129 0.41536 0.41935 0.41876 0.44579 0.4251  0.43243 0.4659\n",
      "  0.44094]]\n",
      "Best algorithm for MAE:  Self-supervised_PatchTST_MAE\n",
      "Second best algorithm for MAE:  SimMTM_MAE\n",
      "None\n"
     ]
    }
   ],
   "source": [
    "print(prediction(rf, \"data/feature_extraction/ettm1_720_features.csv\", algorithms))"
   ]
  },
  {
   "cell_type": "markdown",
   "metadata": {},
   "source": [
    "### For the `ettm2` dataset:"
   ]
  },
  {
   "cell_type": "code",
   "execution_count": 20,
   "metadata": {},
   "outputs": [
    {
     "name": "stdout",
     "output_type": "stream",
     "text": [
      "Predicted performance: [[0.20722 0.2756  0.19704 0.26861 0.19963 0.27793 0.1979  0.27966 0.19892\n",
      "  0.28032 0.208   0.28713 0.20201 0.28108 0.20542 0.28729 0.21646 0.29396\n",
      "  0.19848 0.28509]]\n",
      "Predicted MSEs: [[0.20722 0.19704 0.19963 0.1979  0.19892 0.208   0.20201 0.20542 0.21646\n",
      "  0.19848]]\n",
      "Best algorithm for MSE:  GPHT_MSE\n",
      "Second best algorithm for MSE:  FPT_MSE\n",
      "Predicted MAEs: [[0.2756  0.26861 0.27793 0.27966 0.28032 0.28713 0.28108 0.28729 0.29396\n",
      "  0.28509]]\n",
      "Best algorithm for MAE:  GPHT_MAE\n",
      "Second best algorithm for MAE:  GPHT'_MAE\n",
      "None\n"
     ]
    }
   ],
   "source": [
    "print(prediction(rf, \"data/feature_extraction/ettm2_96_features.csv\", algorithms))"
   ]
  },
  {
   "cell_type": "code",
   "execution_count": 21,
   "metadata": {},
   "outputs": [
    {
     "name": "stdout",
     "output_type": "stream",
     "text": [
      "Predicted performance: [[0.24959 0.30296 0.23758 0.29604 0.24323 0.30898 0.23852 0.30747 0.23734\n",
      "  0.30415 0.25084 0.31711 0.24441 0.31129 0.25165 0.31781 0.25527 0.31858\n",
      "  0.24263 0.31723]]\n",
      "Predicted MSEs: [[0.24959 0.23758 0.24323 0.23852 0.23734 0.25084 0.24441 0.25165 0.25527\n",
      "  0.24263]]\n",
      "Best algorithm for MSE:  SimMTM_MSE\n",
      "Second best algorithm for MSE:  GPHT_MSE\n",
      "Predicted MAEs: [[0.30296 0.29604 0.30898 0.30747 0.30415 0.31711 0.31129 0.31781 0.31858\n",
      "  0.31723]]\n",
      "Best algorithm for MAE:  GPHT_MAE\n",
      "Second best algorithm for MAE:  GPHT'_MAE\n",
      "None\n"
     ]
    }
   ],
   "source": [
    "print(prediction(rf, \"data/feature_extraction/ettm2_192_features.csv\", algorithms))"
   ]
  },
  {
   "cell_type": "code",
   "execution_count": 22,
   "metadata": {},
   "outputs": [
    {
     "name": "stdout",
     "output_type": "stream",
     "text": [
      "Predicted performance: [[0.30705 0.3387  0.29228 0.33171 0.29689 0.34691 0.29465 0.34646 0.28905\n",
      "  0.33698 0.31181 0.35701 0.29774 0.34884 0.29926 0.34786 0.31252 0.35477\n",
      "  0.30669 0.36207]]\n",
      "Predicted MSEs: [[0.30705 0.29228 0.29689 0.29465 0.28905 0.31181 0.29774 0.29926 0.31252\n",
      "  0.30669]]\n",
      "Best algorithm for MSE:  SimMTM_MSE\n",
      "Second best algorithm for MSE:  GPHT_MSE\n",
      "Predicted MAEs: [[0.3387  0.33171 0.34691 0.34646 0.33698 0.35701 0.34884 0.34786 0.35477\n",
      "  0.36207]]\n",
      "Best algorithm for MAE:  GPHT_MAE\n",
      "Second best algorithm for MAE:  SimMTM_MAE\n",
      "None\n"
     ]
    }
   ],
   "source": [
    "print(prediction(rf, \"data/feature_extraction/ettm2_336_features.csv\", algorithms))"
   ]
  },
  {
   "cell_type": "code",
   "execution_count": 23,
   "metadata": {},
   "outputs": [
    {
     "name": "stdout",
     "output_type": "stream",
     "text": [
      "Predicted performance: [[0.37558 0.38078 0.3578  0.37377 0.36162 0.38905 0.36281 0.3906  0.35185\n",
      "  0.37791 0.38173 0.40061 0.35512 0.38888 0.36055 0.38739 0.38678 0.39805\n",
      "  0.39844 0.41961]]\n",
      "Predicted MSEs: [[0.37558 0.3578  0.36162 0.36281 0.35185 0.38173 0.35512 0.36055 0.38678\n",
      "  0.39844]]\n",
      "Best algorithm for MSE:  SimMTM_MSE\n",
      "Second best algorithm for MSE:  Supervised_PatchTST_MSE\n",
      "Predicted MAEs: [[0.38078 0.37377 0.38905 0.3906  0.37791 0.40061 0.38888 0.38739 0.39805\n",
      "  0.41961]]\n",
      "Best algorithm for MAE:  GPHT_MAE\n",
      "Second best algorithm for MAE:  SimMTM_MAE\n",
      "None\n"
     ]
    }
   ],
   "source": [
    "print(prediction(rf, \"data/feature_extraction/ettm2_720_features.csv\", algorithms))"
   ]
  }
 ],
 "metadata": {
  "kernelspec": {
   "display_name": "gpht",
   "language": "python",
   "name": "python3"
  },
  "language_info": {
   "codemirror_mode": {
    "name": "ipython",
    "version": 3
   },
   "file_extension": ".py",
   "mimetype": "text/x-python",
   "name": "python",
   "nbconvert_exporter": "python",
   "pygments_lexer": "ipython3",
   "version": "3.11.4"
  }
 },
 "nbformat": 4,
 "nbformat_minor": 2
}
