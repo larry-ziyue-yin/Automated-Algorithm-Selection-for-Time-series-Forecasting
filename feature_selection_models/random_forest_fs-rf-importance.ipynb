{
 "cells": [
  {
   "cell_type": "markdown",
   "metadata": {},
   "source": [
    "# Algorithm Selection Model using Random Forest"
   ]
  },
  {
   "cell_type": "markdown",
   "metadata": {},
   "source": [
    "1. Import necessary packages."
   ]
  },
  {
   "cell_type": "code",
   "execution_count": 8,
   "metadata": {},
   "outputs": [],
   "source": [
    "import csv\n",
    "import numpy as np\n",
    "from sklearn.ensemble import RandomForestRegressor"
   ]
  },
  {
   "cell_type": "markdown",
   "metadata": {},
   "source": [
    "2. `csv2dict(file)` function that loads the feature space from a `.csv` file."
   ]
  },
  {
   "cell_type": "code",
   "execution_count": 9,
   "metadata": {},
   "outputs": [],
   "source": [
    "def csv2dict(file):\n",
    "    dicts = []\n",
    "    with open(file, mode='r') as f:\n",
    "        csv_reader = csv.DictReader(f)\n",
    "        for row in csv_reader:\n",
    "            new_dict = {}\n",
    "            for key, value in row.items():\n",
    "                try:\n",
    "                    new_dict[key] = float(value)\n",
    "                except ValueError:\n",
    "                    new_dict[key] = value\n",
    "            dicts.append(new_dict)\n",
    "    return dicts"
   ]
  },
  {
   "cell_type": "markdown",
   "metadata": {},
   "source": [
    "3. `load_training_data(features_location, performance_location)` function that loads feature sets and performance scores."
   ]
  },
  {
   "cell_type": "code",
   "execution_count": 10,
   "metadata": {},
   "outputs": [],
   "source": [
    "def load_training_data(features_location, performance_location):\n",
    "    feature_dicts = csv2dict(features_location)\n",
    "    performance_matrix = csv2dict(performance_location)\n",
    "    algorithms = [list(algorithm.keys()) for algorithm in performance_matrix]\n",
    "    return feature_dicts, performance_matrix, algorithms"
   ]
  },
  {
   "cell_type": "markdown",
   "metadata": {},
   "source": [
    "4. `random_forest(X_clean, y_clean)` function that utilizes `RandomForestRegressor` to train the AS model."
   ]
  },
  {
   "cell_type": "code",
   "execution_count": 11,
   "metadata": {},
   "outputs": [],
   "source": [
    "def random_forest(X_clean, y_clean):\n",
    "    rf = RandomForestRegressor(n_estimators=100, random_state=42)\n",
    "    rf.fit(X_clean, y_clean)\n",
    "    return rf"
   ]
  },
  {
   "cell_type": "markdown",
   "metadata": {},
   "source": [
    "5. `prediction(rf, new_features_location, algorithms)` that make predictions given new datasets."
   ]
  },
  {
   "cell_type": "code",
   "execution_count": 12,
   "metadata": {},
   "outputs": [],
   "source": [
    "def prediction(rf, new_features_location, algorithms):\n",
    "    desired_keys = ['Horizontal Length', 'MULL_Spectrogram mean coefficient_27.42Hz', 'weekday_Spectrogram mean coefficient_37.1Hz', 'HULL_MFCC_5', 'HULL_Centroid', 'OT_Wavelet variance_12.5Hz', 'HULL_Spectral roll-off', 'MULL_Wavelet standard deviation_12.5Hz', 'LULL_Positive turning points', 'LUFL_Spectrogram mean coefficient_27.42Hz']\n",
    "    \n",
    "    new_feature_dicts = csv2dict(new_features_location)\n",
    "    new_X = [[new_feature_dict[key] for key in desired_keys if key in new_feature_dict]\n",
    "        for new_feature_dict in new_feature_dicts]\n",
    "    # new_X = [list(new_feature_dict.values()) for new_feature_dict in new_feature_dicts]\n",
    "    new_X_clean = [[0.0 if val == '' else val for val in row] for row in new_X]\n",
    "    \n",
    "    predicted_performance = rf.predict(new_X_clean)\n",
    "    even_items = predicted_performance[:, ::2]\n",
    "    odd_items = predicted_performance[:, 1::2]\n",
    "    \n",
    "    # Find the best algorithm for MSE and MAE\n",
    "    best_algorithm_mse = np.argmin(even_items)\n",
    "    best_algorithm_mae = np.argmin(odd_items)\n",
    "    \n",
    "    # Find the second best algorithm for MSE and MAE\n",
    "    temp_mse = np.copy(even_items)\n",
    "    temp_mae = np.copy(odd_items)\n",
    "    temp_mse[0][best_algorithm_mse] = np.inf\n",
    "    temp_mae[0][best_algorithm_mae] = np.inf\n",
    "    second_best_algorithm_mse = np.argmin(temp_mse)\n",
    "    second_best_algorithm_mae = np.argmin(temp_mae)\n",
    "    \n",
    "    print('Predicted performance:', predicted_performance)\n",
    "    algorithm = [[], []]\n",
    "    algorithm[0] = algorithms[0][::2]\n",
    "    algorithm[1] = algorithms[0][1::2]\n",
    "\n",
    "    print(\"Predicted MSEs:\", even_items)\n",
    "    print(\"Best algorithm for MSE:\", algorithm[0][best_algorithm_mse])\n",
    "    print(\"Second best algorithm for MSE:\", algorithm[0][second_best_algorithm_mse])\n",
    "    print(\"Predicted MAEs:\", odd_items)\n",
    "    print(\"Best algorithm for MAE:\", algorithm[1][best_algorithm_mae])\n",
    "    print(\"Second best algorithm for MAE:\", algorithm[1][second_best_algorithm_mae])\n",
    "    return"
   ]
  },
  {
   "cell_type": "markdown",
   "metadata": {},
   "source": [
    "6. Implementation part, where we call the functions above and get predicted results."
   ]
  },
  {
   "cell_type": "code",
   "execution_count": 13,
   "metadata": {},
   "outputs": [],
   "source": [
    "# traverse files in the directory\n",
    "import os\n",
    "def file_name(file_dir):\n",
    "    for root, dirs, files in os.walk(file_dir):\n",
    "        return files\n",
    "\n",
    "features_locations = file_name(\"data/feature_extraction\")\n",
    "performance_locations = file_name(\"data/performance\")\n",
    "\n",
    "features_locations.sort()\n",
    "performance_locations.sort()\n",
    "\n",
    "X = []\n",
    "y = []\n",
    "\n",
    "for i in range (len(features_locations)):\n",
    "    feature_dicts, performance_matrix, algorithms = load_training_data(\"data/feature_extraction/\"+features_locations[i], \"data/performance/\"+performance_locations[i])\n",
    "    \n",
    "    desired_keys = ['Horizontal Length', 'MULL_Spectrogram mean coefficient_27.42Hz', 'weekday_Spectrogram mean coefficient_37.1Hz', 'HULL_MFCC_5', 'HULL_Centroid', 'OT_Wavelet variance_12.5Hz', 'HULL_Spectral roll-off', 'MULL_Wavelet standard deviation_12.5Hz', 'LULL_Positive turning points', 'LUFL_Spectrogram mean coefficient_27.42Hz']\n",
    "    # temp_X = list(feature_dicts[0].values())\n",
    "    temp_X = [feature_dicts[0][key] if key in feature_dicts[0] else 0.0 for key in desired_keys]\n",
    "    temp_X_clean = [0.0 if val == '' else val for val in temp_X]\n",
    "    X.append(temp_X_clean)\n",
    "    \n",
    "    temp_y = list(performance_matrix[0].values())\n",
    "    y.append(temp_y)\n",
    "\n",
    "rf = random_forest(X, y)"
   ]
  },
  {
   "cell_type": "code",
   "execution_count": 31,
   "metadata": {},
   "outputs": [],
   "source": [
    "with open('X_selected_rf-importance.csv', 'w', newline='', encoding='utf-8') as file:\n",
    "    writer = csv.writer(file)\n",
    "    writer.writerows(X)"
   ]
  },
  {
   "cell_type": "markdown",
   "metadata": {},
   "source": [
    "### For the `etth1` dataset:"
   ]
  },
  {
   "cell_type": "code",
   "execution_count": 14,
   "metadata": {},
   "outputs": [
    {
     "name": "stdout",
     "output_type": "stream",
     "text": [
      "Predicted performance: [[0.36179 0.37885 0.34783 0.37252 0.36287 0.38923 0.36439 0.39062 0.36211\n",
      "  0.39569 0.39965 0.42694 0.3606  0.38855 0.3822  0.4056  0.40498 0.42808\n",
      "  0.35959 0.38828]]\n",
      "Predicted MSEs: [[0.36179 0.34783 0.36287 0.36439 0.36211 0.39965 0.3606  0.3822  0.40498\n",
      "  0.35959]]\n",
      "Best algorithm for MSE:  GPHT_MSE\n",
      "Second best algorithm for MSE:  DLinear_MSE\n",
      "Predicted MAEs: [[0.37885 0.37252 0.38923 0.39062 0.39569 0.42694 0.38855 0.4056  0.42808\n",
      "  0.38828]]\n",
      "Best algorithm for MAE:  GPHT_MAE\n",
      "Second best algorithm for MAE:  GPHT'_MAE\n",
      "None\n"
     ]
    }
   ],
   "source": [
    "print(prediction(rf, \"data/feature_extraction/etth1_96_features.csv\", algorithms))"
   ]
  },
  {
   "cell_type": "code",
   "execution_count": 15,
   "metadata": {},
   "outputs": [
    {
     "name": "stdout",
     "output_type": "stream",
     "text": [
      "Predicted performance: [[0.39716 0.40153 0.38263 0.39436 0.40107 0.41434 0.39689 0.40922 0.39315\n",
      "  0.4157  0.44512 0.45827 0.39315 0.40907 0.42049 0.42962 0.45441 0.45852\n",
      "  0.40045 0.41729]]\n",
      "Predicted MSEs: [[0.39716 0.38263 0.40107 0.39689 0.39315 0.44512 0.39315 0.42049 0.45441\n",
      "  0.40045]]\n",
      "Best algorithm for MSE:  GPHT_MSE\n",
      "Second best algorithm for MSE:  Supervised_PatchTST_MSE\n",
      "Predicted MAEs: [[0.40153 0.39436 0.41434 0.40922 0.4157  0.45827 0.40907 0.42962 0.45852\n",
      "  0.41729]]\n",
      "Best algorithm for MAE:  GPHT_MAE\n",
      "Second best algorithm for MAE:  GPHT'_MAE\n",
      "None\n"
     ]
    }
   ],
   "source": [
    "print(prediction(rf, \"data/feature_extraction/etth1_192_features.csv\", algorithms))"
   ]
  },
  {
   "cell_type": "code",
   "execution_count": 16,
   "metadata": {},
   "outputs": [
    {
     "name": "stdout",
     "output_type": "stream",
     "text": [
      "Predicted performance: [[0.43428 0.42245 0.4137  0.41429 0.43641 0.43604 0.42499 0.42669 0.41404\n",
      "  0.43069 0.48558 0.48654 0.42286 0.42916 0.45885 0.45524 0.49639 0.48575\n",
      "  0.43486 0.44137]]\n",
      "Predicted MSEs: [[0.43428 0.4137  0.43641 0.42499 0.41404 0.48558 0.42286 0.45885 0.49639\n",
      "  0.43486]]\n",
      "Best algorithm for MSE:  GPHT_MSE\n",
      "Second best algorithm for MSE:  SimMTM_MSE\n",
      "Predicted MAEs: [[0.42245 0.41429 0.43604 0.42669 0.43069 0.48654 0.42916 0.45524 0.48575\n",
      "  0.44137]]\n",
      "Best algorithm for MAE:  GPHT_MAE\n",
      "Second best algorithm for MAE:  GPHT'_MAE\n",
      "None\n"
     ]
    }
   ],
   "source": [
    "print(prediction(rf, \"data/feature_extraction/etth1_336_features.csv\", algorithms))"
   ]
  },
  {
   "cell_type": "code",
   "execution_count": 17,
   "metadata": {},
   "outputs": [
    {
     "name": "stdout",
     "output_type": "stream",
     "text": [
      "Predicted performance: [[0.44958 0.44337 0.41681 0.43175 0.45182 0.45773 0.45609 0.4618  0.43106\n",
      "  0.44924 0.56932 0.55219 0.45596 0.4634  0.52824 0.51259 0.51666 0.5021\n",
      "  0.514   0.50842]]\n",
      "Predicted MSEs: [[0.44958 0.41681 0.45182 0.45609 0.43106 0.56932 0.45596 0.52824 0.51666\n",
      "  0.514  ]]\n",
      "Best algorithm for MSE:  GPHT_MSE\n",
      "Second best algorithm for MSE:  SimMTM_MSE\n",
      "Predicted MAEs: [[0.44337 0.43175 0.45773 0.4618  0.44924 0.55219 0.4634  0.51259 0.5021\n",
      "  0.50842]]\n",
      "Best algorithm for MAE:  GPHT_MAE\n",
      "Second best algorithm for MAE:  GPHT'_MAE\n",
      "None\n"
     ]
    }
   ],
   "source": [
    "print(prediction(rf, \"data/feature_extraction/etth1_720_features.csv\", algorithms))"
   ]
  },
  {
   "cell_type": "markdown",
   "metadata": {},
   "source": [
    "### For the `etth2` dataset:"
   ]
  },
  {
   "cell_type": "code",
   "execution_count": 18,
   "metadata": {},
   "outputs": [
    {
     "name": "stdout",
     "output_type": "stream",
     "text": [
      "Predicted performance: [[0.32368 0.35746 0.31277 0.35103 0.31933 0.36618 0.3099  0.36051 0.31519\n",
      "  0.36118 0.31606 0.37184 0.30656 0.35535 0.32821 0.37447 0.36579 0.41179\n",
      "  0.32287 0.37533]]\n",
      "Predicted MSEs: [[0.32368 0.31277 0.31933 0.3099  0.31519 0.31606 0.30656 0.32821 0.36579\n",
      "  0.32287]]\n",
      "Best algorithm for MSE:  Supervised_PatchTST_MSE\n",
      "Second best algorithm for MSE:  FPT_MSE\n",
      "Predicted MAEs: [[0.35746 0.35103 0.36618 0.36051 0.36118 0.37184 0.35535 0.37447 0.41179\n",
      "  0.37533]]\n",
      "Best algorithm for MAE:  GPHT_MAE\n",
      "Second best algorithm for MAE:  Supervised_PatchTST_MAE\n",
      "None\n"
     ]
    }
   ],
   "source": [
    "print(prediction(rf, \"data/feature_extraction/etth2_96_features.csv\", algorithms))"
   ]
  },
  {
   "cell_type": "code",
   "execution_count": 19,
   "metadata": {},
   "outputs": [
    {
     "name": "stdout",
     "output_type": "stream",
     "text": [
      "Predicted performance: [[0.36485 0.3849  0.35494 0.37964 0.37191 0.3978  0.34977 0.38706 0.35345\n",
      "  0.38508 0.35442 0.39789 0.34861 0.38436 0.37951 0.40592 0.3972  0.43009\n",
      "  0.38734 0.41856]]\n",
      "Predicted MSEs: [[0.36485 0.35494 0.37191 0.34977 0.35345 0.35442 0.34861 0.37951 0.3972\n",
      "  0.38734]]\n",
      "Best algorithm for MSE:  Supervised_PatchTST_MSE\n",
      "Second best algorithm for MSE:  FPT_MSE\n",
      "Predicted MAEs: [[0.3849  0.37964 0.3978  0.38706 0.38508 0.39789 0.38436 0.40592 0.43009\n",
      "  0.41856]]\n",
      "Best algorithm for MAE:  GPHT_MAE\n",
      "Second best algorithm for MAE:  Supervised_PatchTST_MAE\n",
      "None\n"
     ]
    }
   ],
   "source": [
    "print(prediction(rf, \"data/feature_extraction/etth2_192_features.csv\", algorithms))"
   ]
  },
  {
   "cell_type": "code",
   "execution_count": 20,
   "metadata": {},
   "outputs": [
    {
     "name": "stdout",
     "output_type": "stream",
     "text": [
      "Predicted performance: [[0.39413 0.4084  0.38548 0.40389 0.39123 0.41258 0.38191 0.41264 0.38246\n",
      "  0.40655 0.40011 0.42888 0.37547 0.40655 0.41201 0.42884 0.40852 0.43873\n",
      "  0.44773 0.45732]]\n",
      "Predicted MSEs: [[0.39413 0.38548 0.39123 0.38191 0.38246 0.40011 0.37547 0.41201 0.40852\n",
      "  0.44773]]\n",
      "Best algorithm for MSE:  Supervised_PatchTST_MSE\n",
      "Second best algorithm for MSE:  FPT_MSE\n",
      "Predicted MAEs: [[0.4084  0.40389 0.41258 0.41264 0.40655 0.42888 0.40655 0.42884 0.43873\n",
      "  0.45732]]\n",
      "Best algorithm for MAE:  GPHT_MAE\n",
      "Second best algorithm for MAE:  Supervised_PatchTST_MAE\n",
      "None\n"
     ]
    }
   ],
   "source": [
    "print(prediction(rf, \"data/feature_extraction/etth2_336_features.csv\", algorithms))"
   ]
  },
  {
   "cell_type": "code",
   "execution_count": 21,
   "metadata": {},
   "outputs": [
    {
     "name": "stdout",
     "output_type": "stream",
     "text": [
      "Predicted performance: [[0.41761 0.4291  0.40771 0.42511 0.41482 0.43951 0.41703 0.44475 0.41135\n",
      "  0.4329  0.52305 0.5031  0.41049 0.43914 0.44713 0.45925 0.45258 0.46694\n",
      "  0.63212 0.55719]]\n",
      "Predicted MSEs: [[0.41761 0.40771 0.41482 0.41703 0.41135 0.52305 0.41049 0.44713 0.45258\n",
      "  0.63212]]\n",
      "Best algorithm for MSE:  GPHT_MSE\n",
      "Second best algorithm for MSE:  Supervised_PatchTST_MSE\n",
      "Predicted MAEs: [[0.4291  0.42511 0.43951 0.44475 0.4329  0.5031  0.43914 0.45925 0.46694\n",
      "  0.55719]]\n",
      "Best algorithm for MAE:  GPHT_MAE\n",
      "Second best algorithm for MAE:  GPHT'_MAE\n",
      "None\n"
     ]
    }
   ],
   "source": [
    "print(prediction(rf, \"data/feature_extraction/etth2_720_features.csv\", algorithms))"
   ]
  },
  {
   "cell_type": "markdown",
   "metadata": {},
   "source": [
    "### For the `ettm1` dataset:"
   ]
  },
  {
   "cell_type": "code",
   "execution_count": 22,
   "metadata": {},
   "outputs": [
    {
     "name": "stdout",
     "output_type": "stream",
     "text": [
      "Predicted performance: [[0.30589 0.3473  0.29565 0.34111 0.28774 0.34514 0.29421 0.34839 0.29959\n",
      "  0.35119 0.30657 0.35397 0.30041 0.34736 0.30931 0.36138 0.34466 0.38095\n",
      "  0.30432 0.34912]]\n",
      "Predicted MSEs: [[0.30589 0.29565 0.28774 0.29421 0.29959 0.30657 0.30041 0.30931 0.34466\n",
      "  0.30432]]\n",
      "Best algorithm for MSE:  Self-supervised_PatchTST_MSE\n",
      "Second best algorithm for MSE:  FPT_MSE\n",
      "Predicted MAEs: [[0.3473  0.34111 0.34514 0.34839 0.35119 0.35397 0.34736 0.36138 0.38095\n",
      "  0.34912]]\n",
      "Best algorithm for MAE:  GPHT_MAE\n",
      "Second best algorithm for MAE:  Self-supervised_PatchTST_MAE\n",
      "None\n"
     ]
    }
   ],
   "source": [
    "print(prediction(rf, \"data/feature_extraction/ettm1_96_features.csv\", algorithms))"
   ]
  },
  {
   "cell_type": "code",
   "execution_count": 23,
   "metadata": {},
   "outputs": [
    {
     "name": "stdout",
     "output_type": "stream",
     "text": [
      "Predicted performance: [[0.3467  0.37361 0.33644 0.36738 0.32455 0.3704  0.32998 0.37087 0.33418\n",
      "  0.37334 0.35024 0.3827  0.33872 0.37353 0.34543 0.38256 0.42243 0.41788\n",
      "  0.33866 0.36938]]\n",
      "Predicted MSEs: [[0.3467  0.33644 0.32455 0.32998 0.33418 0.35024 0.33872 0.34543 0.42243\n",
      "  0.33866]]\n",
      "Best algorithm for MSE:  Self-supervised_PatchTST_MSE\n",
      "Second best algorithm for MSE:  FPT_MSE\n",
      "Predicted MAEs: [[0.37361 0.36738 0.3704  0.37087 0.37334 0.3827  0.37353 0.38256 0.41788\n",
      "  0.36938]]\n",
      "Best algorithm for MAE:  GPHT_MAE\n",
      "Second best algorithm for MAE:  DLinear_MAE\n",
      "None\n"
     ]
    }
   ],
   "source": [
    "print(prediction(rf, \"data/feature_extraction/ettm1_192_features.csv\", algorithms))"
   ]
  },
  {
   "cell_type": "code",
   "execution_count": 24,
   "metadata": {},
   "outputs": [
    {
     "name": "stdout",
     "output_type": "stream",
     "text": [
      "Predicted performance: [[0.38135 0.3956  0.37006 0.3882  0.34772 0.384   0.35997 0.38935 0.36365\n",
      "  0.39284 0.3844  0.40515 0.37179 0.39533 0.37509 0.40041 0.4476  0.43863\n",
      "  0.36959 0.39124]]\n",
      "Predicted MSEs: [[0.38135 0.37006 0.34772 0.35997 0.36365 0.3844  0.37179 0.37509 0.4476\n",
      "  0.36959]]\n",
      "Best algorithm for MSE:  Self-supervised_PatchTST_MSE\n",
      "Second best algorithm for MSE:  FPT_MSE\n",
      "Predicted MAEs: [[0.3956  0.3882  0.384   0.38935 0.39284 0.40515 0.39533 0.40041 0.43863\n",
      "  0.39124]]\n",
      "Best algorithm for MAE:  Self-supervised_PatchTST_MAE\n",
      "Second best algorithm for MAE:  GPHT_MAE\n",
      "None\n"
     ]
    }
   ],
   "source": [
    "print(prediction(rf, \"data/feature_extraction/ettm1_336_features.csv\", algorithms))"
   ]
  },
  {
   "cell_type": "code",
   "execution_count": 25,
   "metadata": {},
   "outputs": [
    {
     "name": "stdout",
     "output_type": "stream",
     "text": [
      "Predicted performance: [[0.44258 0.42896 0.42764 0.42104 0.39519 0.41564 0.40885 0.41973 0.40657\n",
      "  0.41895 0.45199 0.44666 0.41561 0.42599 0.43175 0.43471 0.49614 0.46676\n",
      "  0.43837 0.43497]]\n",
      "Predicted MSEs: [[0.44258 0.42764 0.39519 0.40885 0.40657 0.45199 0.41561 0.43175 0.49614\n",
      "  0.43837]]\n",
      "Best algorithm for MSE:  Self-supervised_PatchTST_MSE\n",
      "Second best algorithm for MSE:  SimMTM_MSE\n",
      "Predicted MAEs: [[0.42896 0.42104 0.41564 0.41973 0.41895 0.44666 0.42599 0.43471 0.46676\n",
      "  0.43497]]\n",
      "Best algorithm for MAE:  Self-supervised_PatchTST_MAE\n",
      "Second best algorithm for MAE:  SimMTM_MAE\n",
      "None\n"
     ]
    }
   ],
   "source": [
    "print(prediction(rf, \"data/feature_extraction/ettm1_720_features.csv\", algorithms))"
   ]
  },
  {
   "cell_type": "markdown",
   "metadata": {},
   "source": [
    "### For the `ettm2` dataset:"
   ]
  },
  {
   "cell_type": "code",
   "execution_count": 26,
   "metadata": {},
   "outputs": [
    {
     "name": "stdout",
     "output_type": "stream",
     "text": [
      "Predicted performance: [[0.20716 0.27558 0.19699 0.2686  0.19947 0.2778  0.19789 0.27963 0.1989\n",
      "  0.28031 0.20807 0.28703 0.20213 0.28111 0.20543 0.28728 0.21622 0.2936\n",
      "  0.19855 0.28495]]\n",
      "Predicted MSEs: [[0.20716 0.19699 0.19947 0.19789 0.1989  0.20807 0.20213 0.20543 0.21622\n",
      "  0.19855]]\n",
      "Best algorithm for MSE:  GPHT_MSE\n",
      "Second best algorithm for MSE:  FPT_MSE\n",
      "Predicted MAEs: [[0.27558 0.2686  0.2778  0.27963 0.28031 0.28703 0.28111 0.28728 0.2936\n",
      "  0.28495]]\n",
      "Best algorithm for MAE:  GPHT_MAE\n",
      "Second best algorithm for MAE:  GPHT'_MAE\n",
      "None\n"
     ]
    }
   ],
   "source": [
    "print(prediction(rf, \"data/feature_extraction/ettm2_96_features.csv\", algorithms))"
   ]
  },
  {
   "cell_type": "code",
   "execution_count": 27,
   "metadata": {},
   "outputs": [
    {
     "name": "stdout",
     "output_type": "stream",
     "text": [
      "Predicted performance: [[0.25033 0.3034  0.23827 0.29647 0.24358 0.30924 0.23927 0.30791 0.238\n",
      "  0.30458 0.2517  0.31749 0.24503 0.31169 0.25202 0.31803 0.25663 0.31902\n",
      "  0.24335 0.31747]]\n",
      "Predicted MSEs: [[0.25033 0.23827 0.24358 0.23927 0.238   0.2517  0.24503 0.25202 0.25663\n",
      "  0.24335]]\n",
      "Best algorithm for MSE:  SimMTM_MSE\n",
      "Second best algorithm for MSE:  GPHT_MSE\n",
      "Predicted MAEs: [[0.3034  0.29647 0.30924 0.30791 0.30458 0.31749 0.31169 0.31803 0.31902\n",
      "  0.31747]]\n",
      "Best algorithm for MAE:  GPHT_MAE\n",
      "Second best algorithm for MAE:  GPHT'_MAE\n",
      "None\n"
     ]
    }
   ],
   "source": [
    "print(prediction(rf, \"data/feature_extraction/ettm2_192_features.csv\", algorithms))"
   ]
  },
  {
   "cell_type": "code",
   "execution_count": 28,
   "metadata": {},
   "outputs": [
    {
     "name": "stdout",
     "output_type": "stream",
     "text": [
      "Predicted performance: [[0.30719 0.33866 0.29224 0.33171 0.29835 0.34772 0.29535 0.34698 0.28932\n",
      "  0.33716 0.31248 0.3578  0.29775 0.34901 0.30002 0.34841 0.31144 0.35451\n",
      "  0.30811 0.36344]]\n",
      "Predicted MSEs: [[0.30719 0.29224 0.29835 0.29535 0.28932 0.31248 0.29775 0.30002 0.31144\n",
      "  0.30811]]\n",
      "Best algorithm for MSE:  SimMTM_MSE\n",
      "Second best algorithm for MSE:  GPHT_MSE\n",
      "Predicted MAEs: [[0.33866 0.33171 0.34772 0.34698 0.33716 0.3578  0.34901 0.34841 0.35451\n",
      "  0.36344]]\n",
      "Best algorithm for MAE:  GPHT_MAE\n",
      "Second best algorithm for MAE:  SimMTM_MAE\n",
      "None\n"
     ]
    }
   ],
   "source": [
    "print(prediction(rf, \"data/feature_extraction/ettm2_336_features.csv\", algorithms))"
   ]
  },
  {
   "cell_type": "code",
   "execution_count": 29,
   "metadata": {},
   "outputs": [
    {
     "name": "stdout",
     "output_type": "stream",
     "text": [
      "Predicted performance: [[0.37259 0.37892 0.35415 0.37175 0.36054 0.38827 0.36132 0.38981 0.34957\n",
      "  0.37657 0.38069 0.40077 0.35348 0.38797 0.35993 0.38727 0.38315 0.39615\n",
      "  0.39466 0.41844]]\n",
      "Predicted MSEs: [[0.37259 0.35415 0.36054 0.36132 0.34957 0.38069 0.35348 0.35993 0.38315\n",
      "  0.39466]]\n",
      "Best algorithm for MSE:  SimMTM_MSE\n",
      "Second best algorithm for MSE:  Supervised_PatchTST_MSE\n",
      "Predicted MAEs: [[0.37892 0.37175 0.38827 0.38981 0.37657 0.40077 0.38797 0.38727 0.39615\n",
      "  0.41844]]\n",
      "Best algorithm for MAE:  GPHT_MAE\n",
      "Second best algorithm for MAE:  SimMTM_MAE\n",
      "None\n"
     ]
    }
   ],
   "source": [
    "print(prediction(rf, \"data/feature_extraction/ettm2_720_features.csv\", algorithms))"
   ]
  }
 ],
 "metadata": {
  "kernelspec": {
   "display_name": "gpht",
   "language": "python",
   "name": "python3"
  },
  "language_info": {
   "codemirror_mode": {
    "name": "ipython",
    "version": 3
   },
   "file_extension": ".py",
   "mimetype": "text/x-python",
   "name": "python",
   "nbconvert_exporter": "python",
   "pygments_lexer": "ipython3",
   "version": "3.11.4"
  }
 },
 "nbformat": 4,
 "nbformat_minor": 2
}
