{
  "nbformat": 4,
  "nbformat_minor": 0,
  "metadata": {
    "colab": {
      "provenance": []
    },
    "kernelspec": {
      "name": "python3",
      "display_name": "Python 3"
    },
    "language_info": {
      "name": "python"
    }
  },
  "cells": [
    {
      "cell_type": "code",
      "source": [
        "import matplotlib.pyplot as plt\n",
        "import pandas as pd\n",
        "\n",
        "# Data input\n",
        "data = {\n",
        "    'Dataset': ['etth1', 'etth1', 'etth1', 'etth1', 'etth2', 'etth2', 'etth2', 'etth2', 'ettm1', 'ettm1', 'ettm1', 'ettm1', 'ettm2', 'ettm2', 'ettm2', 'ettm2'],\n",
        "    'Horizontal Length': [96, 192, 336, 720, 96, 192, 336, 720, 96, 192, 336, 720, 96, 192, 336, 720],\n",
        "    'All + Random Forest MSE': [0.363, 0.405, 0.43, 0.414, 0.286, 0.357, 0.377, 0.407, 0.281, 0.326, 0.348, 0.399, 0.17, 0.23, 0.282, 0.374],\n",
        "    'All + Random Forest MAE': [0.382, 0.408, 0.423, 0.435, 0.34, 0.384, 0.41, 0.427, 0.339, 0.368, 0.393, 0.418, 0.25, 0.291, 0.327, 0.386],\n",
        "    'All + XGBoost MSE': [0.363, 0.405, 0.43, 0.414, 0.296, 0.363, 0.392, 0.407, 0.296, 0.334, 0.371, 0.418, 0.17, 0.23, 0.285, 0.38],\n",
        "    'All + XGBoost MAE': [0.382, 0.408, 0.423, 0.435, 0.388, 0.416, 0.432, 0.449, 0.341, 0.372, 0.384, 0.418, 0.25, 0.291, 0.327, 0.386],\n",
        "    'All + Ensemble MSE': [0.363, 0.405, 0.43, 0.414, 0.296, 0.363, 0.392, 0.407, 0.281, 0.326, 0.348, 0.399, 0.173, 0.23, 0.282, 0.374],\n",
        "    'All + Ensemble MAE': [0.382, 0.408, 0.423, 0.435, 0.34, 0.384, 0.41, 0.427, 0.339, 0.368, 0.393, 0.418, 0.257, 0.298, 0.334, 0.393],\n",
        "    'AutoEncoder + Random Forest MSE': [0.363, 0.405, 0.43, 0.414, 0.286, 0.357, 0.377, 0.407, 0.281, 0.326, 0.348, 0.399, 0.173, 0.23, 0.282, 0.374],\n",
        "    'AutoEncoder + Random Forest MAE': [0.382, 0.408, 0.423, 0.435, 0.34, 0.384, 0.41, 0.427, 0.341, 0.372, 0.393, 0.418, 0.25, 0.291, 0.327, 0.386]\n",
        "}\n",
        "\n",
        "df = pd.DataFrame(data)\n",
        "\n",
        "# Visualization function\n",
        "def plot_evaluation_results(df):\n",
        "    datasets = df['Dataset'].unique()\n",
        "    plt.figure(figsize=(10, 6))\n",
        "\n",
        "    # Print evaluation results\n",
        "    print(\"Evaluation results:\")\n",
        "    for dataset in datasets:\n",
        "        subset = df[df['Dataset'] == dataset]\n",
        "        for index, row in subset.iterrows():\n",
        "            print(f\"Dataset: {dataset}, Horizontal Length: {row['Horizontal Length']}, \"\n",
        "                  f\"RF MSE: {row['All + Random Forest MSE']:.3f}, \"\n",
        "                  f\"RF MAE: {row['All + Random Forest MAE']:.3f}, \"\n",
        "                  f\"XGBoost MSE: {row['All + XGBoost MSE']:.3f}, \"\n",
        "                  f\"XGBoost MAE: {row['All + XGBoost MAE']:.3f}, \"\n",
        "                  f\"Ensemble MSE: {row['All + Ensemble MSE']:.3f}, \"\n",
        "                  f\"Ensemble MAE: {row['All + Ensemble MAE']:.3f}, \"\n",
        "                  f\"AutoEncoder + RF MSE: {row['AutoEncoder + Random Forest MSE']:.3f}, \"\n",
        "                  f\"AutoEncoder + RF MAE: {row['AutoEncoder + Random Forest MAE']:.3f}\")\n",
        "\n",
        "        plt.plot(subset['Horizontal Length'], subset['All + Random Forest MSE'], marker='o', label=f'{dataset} - RF MSE')\n",
        "        plt.plot(subset['Horizontal Length'], subset['All + Random Forest MAE'], marker='o', linestyle='--', label=f'{dataset} - RF MAE')\n",
        "        plt.plot(subset['Horizontal Length'], subset['All + XGBoost MSE'], marker='s', label=f'{dataset} - XGBoost MSE')\n",
        "        plt.plot(subset['Horizontal Length'], subset['All + XGBoost MAE'], marker='s', linestyle='--', label=f'{dataset} - XGBoost MAE')\n",
        "        plt.plot(subset['Horizontal Length'], subset['All + Ensemble MSE'], marker='^', label=f'{dataset} - Ensemble MSE')\n",
        "        plt.plot(subset['Horizontal Length'], subset['All + Ensemble MAE'], marker='^', linestyle='--', label=f'{dataset} - Ensemble MAE')\n",
        "        plt.plot(subset['Horizontal Length'], subset['AutoEncoder + Random Forest MSE'], marker='D', label=f'{dataset} - AutoEncoder + RF MSE')\n",
        "        plt.plot(subset['Horizontal Length'], subset['AutoEncoder + Random Forest MAE'], marker='D', linestyle='--', label=f'{dataset} - AutoEncoder + RF MAE')\n",
        "\n",
        "    plt.title('Model Performance Evaluation')\n",
        "    plt.xlabel('Horizontal Length')\n",
        "    plt.ylabel('Error Metrics (MSE and MAE)')\n",
        "    plt.legend(loc='center left', bbox_to_anchor=(1, 0.5))  # Move legend to the side\n",
        "    plt.grid(True)\n",
        "    plt.tight_layout()\n",
        "    plt.show()\n",
        "\n",
        "# Run the visualization\n",
        "plot_evaluation_results(df)\n"
      ],
      "metadata": {
        "id": "u-ZffW5QXRcQ"
      },
      "execution_count": null,
      "outputs": []
    }
  ]
}